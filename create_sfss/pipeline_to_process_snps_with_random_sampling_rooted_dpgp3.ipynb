{
 "cells": [
  {
   "cell_type": "markdown",
   "metadata": {},
   "source": [
    "### __Pipeline 2: SNP processing with random sampling of the alternative allele__"
   ]
  },
  {
   "cell_type": "markdown",
   "metadata": {},
   "source": [
    "#### __Requirements__\n",
    "- a python environment (installed with conda for example);\n",
    "- .TSV files from the obtained with pipeline 1;\n",
    "- python `subprocess`;\n",
    "- python `Numpy`;\n",
    "- python `Pandas`;"
   ]
  },
  {
   "cell_type": "markdown",
   "metadata": {},
   "source": [
    "Load some python libraries"
   ]
  },
  {
   "cell_type": "code",
   "execution_count": 43,
   "metadata": {},
   "outputs": [],
   "source": [
    "import numpy as np\n",
    "import pandas as pd\n",
    "from snp_utils import ramdomly_sample_haplotypes, filter_short_introns_from_bed, filter_snps_by_interval, check_snp_codon_length\n",
    "from sfs_utils import create_unfolded_sfs_from_df, fold_sfs\n",
    "from mutational_context_utils import *"
   ]
  },
  {
   "cell_type": "markdown",
   "metadata": {},
   "source": [
    "#### __Import the tables into Pandas__\n",
    "\n",
    "We are going to use pandas to import the SNP table. Pandas is a great (if used with caution) Python package built on Numpy which allows easy dataFrame manipulations."
   ]
  },
  {
   "cell_type": "code",
   "execution_count": 60,
   "metadata": {},
   "outputs": [
    {
     "name": "stdout",
     "output_type": "stream",
     "text": [
      "[Errno 2] No such file or directory: '../../masked/vcfs/tables/'\n",
      "/Users/tur92196/WorkDir/DGN/dpgp3/masked/vcfs/tables\n",
      "ZI_chr2L_ann_table.tsv              chr2R_exons_downsampled.pkl\n",
      "ZI_chr2L_snp_roots.csv              chr2R_exons_imputed.pkl\n",
      "ZI_chr2L_snp_roots.txt              chr2R_exons_sampled.pkl\n",
      "ZI_chr2R_ann_table.tsv              chr2R_short_introns_downsampled.pkl\n",
      "ZI_chr2R_snp_roots.csv              chr2R_short_introns_imputed.pkl\n",
      "ZI_chr2R_snp_roots.txt              chr2R_short_introns_sampled.pkl\n",
      "ZI_chr3L_ann_table.tsv              chr3L_exons_downsampled.pkl\n",
      "ZI_chr3L_snp_roots.csv              chr3L_exons_imputed.pkl\n",
      "ZI_chr3L_snp_roots.txt              chr3L_exons_sampled.pkl\n",
      "ZI_chr3R_ann_table.tsv              chr3L_short_introns_downsampled.pkl\n",
      "ZI_chr3R_snp_roots.csv              chr3L_short_introns_imputed.pkl\n",
      "ZI_chr3R_snp_roots.txt              chr3L_short_introns_sampled.pkl\n",
      "chr2L_exons_downsampled.pkl         chr3R_exons_downsampled.pkl\n",
      "chr2L_exons_imputed.pkl             chr3R_exons_imputed.pkl\n",
      "chr2L_exons_sampled.pkl             chr3R_exons_sampled.pkl\n",
      "chr2L_short_introns_downsampled.pkl chr3R_short_introns_downsampled.pkl\n",
      "chr2L_short_introns_imputed.pkl     chr3R_short_introns_imputed.pkl\n",
      "chr2L_short_introns_sampled.pkl     chr3R_short_introns_sampled.pkl\n"
     ]
    },
    {
     "name": "stderr",
     "output_type": "stream",
     "text": [
      "/opt/homebrew/anaconda3/envs/dmelnexus/lib/python3.11/site-packages/IPython/core/magics/osm.py:393: UserWarning: using bookmarks requires you to install the `pickleshare` library.\n",
      "  bkms = self.shell.db.get('bookmarks', {})\n"
     ]
    }
   ],
   "source": [
    "%cd ../../masked/vcfs/tables/\n",
    "!ls "
   ]
  },
  {
   "cell_type": "markdown",
   "metadata": {},
   "source": [
    "Upload the `.tsv` file for each chromosome (except for the __chrom4__ and __chromX__)."
   ]
  },
  {
   "cell_type": "code",
   "execution_count": 61,
   "metadata": {},
   "outputs": [],
   "source": [
    "# Upload files with pd.read_table()\n",
    "chr2L_table = pd.read_table(\"ZI_chr2L_ann_table.tsv\")\n",
    "chr2R_table = pd.read_table(\"ZI_chr2R_ann_table.tsv\")\n",
    "chr3L_table = pd.read_table(\"ZI_chr3L_ann_table.tsv\")\n",
    "chr3R_table = pd.read_table(\"ZI_chr3R_ann_table.tsv\")"
   ]
  },
  {
   "cell_type": "markdown",
   "metadata": {},
   "source": [
    "Check the number of SNPs in each file:"
   ]
  },
  {
   "cell_type": "code",
   "execution_count": 62,
   "metadata": {},
   "outputs": [
    {
     "data": {
      "text/plain": [
       "'chr2L = 2016260, chr2R = 1582937, chr3L = 1795061, chr3R = 2087683 SNPs!'"
      ]
     },
     "execution_count": 62,
     "metadata": {},
     "output_type": "execute_result"
    }
   ],
   "source": [
    "# Take a look at the number of SNPs with .shape\n",
    "\"chr2L = {}, chr2R = {}, chr3L = {}, chr3R = {} SNPs!\".format(chr2L_table.shape[0], chr2R_table.shape[0], chr3L_table.shape[0], chr3R_table.shape[0])"
   ]
  },
  {
   "cell_type": "code",
   "execution_count": 63,
   "metadata": {},
   "outputs": [
    {
     "data": {
      "text/html": [
       "<div>\n",
       "<style scoped>\n",
       "    .dataframe tbody tr th:only-of-type {\n",
       "        vertical-align: middle;\n",
       "    }\n",
       "\n",
       "    .dataframe tbody tr th {\n",
       "        vertical-align: top;\n",
       "    }\n",
       "\n",
       "    .dataframe thead th {\n",
       "        text-align: right;\n",
       "    }\n",
       "</style>\n",
       "<table border=\"1\" class=\"dataframe\">\n",
       "  <thead>\n",
       "    <tr style=\"text-align: right;\">\n",
       "      <th></th>\n",
       "      <th>chrom</th>\n",
       "      <th>pos</th>\n",
       "      <th>id</th>\n",
       "      <th>ref</th>\n",
       "      <th>alt</th>\n",
       "      <th>refcount</th>\n",
       "      <th>altcount</th>\n",
       "      <th>refflank</th>\n",
       "      <th>altflank</th>\n",
       "      <th>refcodon</th>\n",
       "      <th>...</th>\n",
       "      <th>snpeff_trnscid</th>\n",
       "      <th>sift_trnscid</th>\n",
       "      <th>sift_geneid</th>\n",
       "      <th>sift_genename</th>\n",
       "      <th>sift_region</th>\n",
       "      <th>sift_vartype</th>\n",
       "      <th>sifts_core</th>\n",
       "      <th>sift_median</th>\n",
       "      <th>sift_pred</th>\n",
       "      <th>deleteriousness</th>\n",
       "    </tr>\n",
       "  </thead>\n",
       "  <tbody>\n",
       "    <tr>\n",
       "      <th>0</th>\n",
       "      <td>chr2L</td>\n",
       "      <td>5090</td>\n",
       "      <td>.</td>\n",
       "      <td>T</td>\n",
       "      <td>C</td>\n",
       "      <td>103</td>\n",
       "      <td>3</td>\n",
       "      <td>CATTTTCTC</td>\n",
       "      <td>CATTCTCTC</td>\n",
       "      <td>NaN</td>\n",
       "      <td>...</td>\n",
       "      <td>FBtr0475186</td>\n",
       "      <td>NaN</td>\n",
       "      <td>NaN</td>\n",
       "      <td>NaN</td>\n",
       "      <td>NaN</td>\n",
       "      <td>NaN</td>\n",
       "      <td>NaN</td>\n",
       "      <td>NaN</td>\n",
       "      <td>NaN</td>\n",
       "      <td>NaN</td>\n",
       "    </tr>\n",
       "    <tr>\n",
       "      <th>1</th>\n",
       "      <td>chr2L</td>\n",
       "      <td>5095</td>\n",
       "      <td>.</td>\n",
       "      <td>T</td>\n",
       "      <td>A</td>\n",
       "      <td>16</td>\n",
       "      <td>104</td>\n",
       "      <td>TCTCTCCCA</td>\n",
       "      <td>TCTCACCCA</td>\n",
       "      <td>NaN</td>\n",
       "      <td>...</td>\n",
       "      <td>FBtr0475186</td>\n",
       "      <td>NaN</td>\n",
       "      <td>NaN</td>\n",
       "      <td>NaN</td>\n",
       "      <td>NaN</td>\n",
       "      <td>NaN</td>\n",
       "      <td>NaN</td>\n",
       "      <td>NaN</td>\n",
       "      <td>NaN</td>\n",
       "      <td>NaN</td>\n",
       "    </tr>\n",
       "    <tr>\n",
       "      <th>2</th>\n",
       "      <td>chr2L</td>\n",
       "      <td>5110</td>\n",
       "      <td>.</td>\n",
       "      <td>T</td>\n",
       "      <td>A</td>\n",
       "      <td>130</td>\n",
       "      <td>2</td>\n",
       "      <td>AGGGTGAAA</td>\n",
       "      <td>AGGGAGAAA</td>\n",
       "      <td>NaN</td>\n",
       "      <td>...</td>\n",
       "      <td>FBtr0475186</td>\n",
       "      <td>NaN</td>\n",
       "      <td>NaN</td>\n",
       "      <td>NaN</td>\n",
       "      <td>NaN</td>\n",
       "      <td>NaN</td>\n",
       "      <td>NaN</td>\n",
       "      <td>NaN</td>\n",
       "      <td>NaN</td>\n",
       "      <td>NaN</td>\n",
       "    </tr>\n",
       "    <tr>\n",
       "      <th>3</th>\n",
       "      <td>chr2L</td>\n",
       "      <td>5118</td>\n",
       "      <td>.</td>\n",
       "      <td>G</td>\n",
       "      <td>T</td>\n",
       "      <td>147</td>\n",
       "      <td>1</td>\n",
       "      <td>ATATGATCG</td>\n",
       "      <td>ATATTATCG</td>\n",
       "      <td>NaN</td>\n",
       "      <td>...</td>\n",
       "      <td>FBtr0475186</td>\n",
       "      <td>NaN</td>\n",
       "      <td>NaN</td>\n",
       "      <td>NaN</td>\n",
       "      <td>NaN</td>\n",
       "      <td>NaN</td>\n",
       "      <td>NaN</td>\n",
       "      <td>NaN</td>\n",
       "      <td>NaN</td>\n",
       "      <td>NaN</td>\n",
       "    </tr>\n",
       "    <tr>\n",
       "      <th>4</th>\n",
       "      <td>chr2L</td>\n",
       "      <td>5140</td>\n",
       "      <td>.</td>\n",
       "      <td>C</td>\n",
       "      <td>T</td>\n",
       "      <td>158</td>\n",
       "      <td>2</td>\n",
       "      <td>AGTGCCAAC</td>\n",
       "      <td>AGTGTCAAC</td>\n",
       "      <td>NaN</td>\n",
       "      <td>...</td>\n",
       "      <td>FBtr0475186</td>\n",
       "      <td>NaN</td>\n",
       "      <td>NaN</td>\n",
       "      <td>NaN</td>\n",
       "      <td>NaN</td>\n",
       "      <td>NaN</td>\n",
       "      <td>NaN</td>\n",
       "      <td>NaN</td>\n",
       "      <td>NaN</td>\n",
       "      <td>NaN</td>\n",
       "    </tr>\n",
       "  </tbody>\n",
       "</table>\n",
       "<p>5 rows × 29 columns</p>\n",
       "</div>"
      ],
      "text/plain": [
       "   chrom   pos id ref alt  refcount  altcount   refflank   altflank refcodon  \\\n",
       "0  chr2L  5090  .   T   C       103         3  CATTTTCTC  CATTCTCTC      NaN   \n",
       "1  chr2L  5095  .   T   A        16       104  TCTCTCCCA  TCTCACCCA      NaN   \n",
       "2  chr2L  5110  .   T   A       130         2  AGGGTGAAA  AGGGAGAAA      NaN   \n",
       "3  chr2L  5118  .   G   T       147         1  ATATGATCG  ATATTATCG      NaN   \n",
       "4  chr2L  5140  .   C   T       158         2  AGTGCCAAC  AGTGTCAAC      NaN   \n",
       "\n",
       "   ... snpeff_trnscid sift_trnscid sift_geneid sift_genename sift_region  \\\n",
       "0  ...    FBtr0475186          NaN         NaN           NaN         NaN   \n",
       "1  ...    FBtr0475186          NaN         NaN           NaN         NaN   \n",
       "2  ...    FBtr0475186          NaN         NaN           NaN         NaN   \n",
       "3  ...    FBtr0475186          NaN         NaN           NaN         NaN   \n",
       "4  ...    FBtr0475186          NaN         NaN           NaN         NaN   \n",
       "\n",
       "  sift_vartype sifts_core sift_median sift_pred deleteriousness  \n",
       "0          NaN        NaN         NaN       NaN             NaN  \n",
       "1          NaN        NaN         NaN       NaN             NaN  \n",
       "2          NaN        NaN         NaN       NaN             NaN  \n",
       "3          NaN        NaN         NaN       NaN             NaN  \n",
       "4          NaN        NaN         NaN       NaN             NaN  \n",
       "\n",
       "[5 rows x 29 columns]"
      ]
     },
     "execution_count": 63,
     "metadata": {},
     "output_type": "execute_result"
    }
   ],
   "source": [
    "# Take a look at chr2L\n",
    "chr2L_table.head()"
   ]
  },
  {
   "cell_type": "markdown",
   "metadata": {},
   "source": [
    "UPDATED: 18/MAR/2024\n",
    "Add a column containing the ancestral allele state. This was obtained by looking at _D. simulans_ genome aligned to _D. melanogaster_ genome. "
   ]
  },
  {
   "cell_type": "code",
   "execution_count": 64,
   "metadata": {},
   "outputs": [
    {
     "data": {
      "text/plain": [
       "'chr2L = 2016260, chr2R = 1582937, chr3L = 1795061, chr3R = 2087683 SNPs!'"
      ]
     },
     "execution_count": 64,
     "metadata": {},
     "output_type": "execute_result"
    }
   ],
   "source": [
    "# Load each chromsome file with ancestral alleles:\n",
    "chr2L_aa = pd.read_csv(\"ZI_chr2L_snp_roots.csv\")\n",
    "chr2R_aa = pd.read_csv(\"ZI_chr2R_snp_roots.csv\")\n",
    "chr3L_aa = pd.read_csv(\"ZI_chr3L_snp_roots.csv\")\n",
    "chr3R_aa = pd.read_csv(\"ZI_chr3R_snp_roots.csv\")\n",
    "\n",
    "# Take a look at the number of SNPs with .shape\n",
    "\"chr2L = {}, chr2R = {}, chr3L = {}, chr3R = {} SNPs!\".format(chr2L_aa.shape[0], chr2R_aa.shape[0], chr3L_aa.shape[0], chr3R_aa.shape[0])"
   ]
  },
  {
   "cell_type": "code",
   "execution_count": 65,
   "metadata": {},
   "outputs": [
    {
     "name": "stdout",
     "output_type": "stream",
     "text": [
      "All entries in roots 'pos' column are present in tables 'pos' column.\n",
      "Updated tables:\n",
      "         chrom       pos    id ref alt  refcount  altcount   refflank  \\\n",
      "0        chr2L      5090  AA=T   T   C       103         3  CATTTTCTC   \n",
      "1        chr2L      5095  AA=T   T   A        16       104  TCTCTCCCA   \n",
      "2        chr2L      5110  AA=T   T   A       130         2  AGGGTGAAA   \n",
      "3        chr2L      5118  AA=G   G   T       147         1  ATATGATCG   \n",
      "4        chr2L      5140  AA=C   C   T       158         2  AGTGCCAAC   \n",
      "...        ...       ...   ...  ..  ..       ...       ...        ...   \n",
      "2016255  chr2L  23021415  AA=C   C   A       100         1  AAGCCATAA   \n",
      "2016256  chr2L  23021467  AA=G   G   C        98         3  ATCTGAGAA   \n",
      "2016257  chr2L  23021643  AA=T   T   C        48        53  TTATTCTAA   \n",
      "2016258  chr2L  23021737  AA=T   T   C       100         1  TTAATCGAT   \n",
      "2016259  chr2L  23022024  AA=T   T   C       100         1  TATATGTAT   \n",
      "\n",
      "          altflank refcodon  ... snpeff_trnscid sift_trnscid sift_geneid  \\\n",
      "0        CATTCTCTC      NaN  ...    FBtr0475186          NaN         NaN   \n",
      "1        TCTCACCCA      NaN  ...    FBtr0475186          NaN         NaN   \n",
      "2        AGGGAGAAA      NaN  ...    FBtr0475186          NaN         NaN   \n",
      "3        ATATTATCG      NaN  ...    FBtr0475186          NaN         NaN   \n",
      "4        AGTGTCAAC      NaN  ...    FBtr0475186          NaN         NaN   \n",
      "...            ...      ...  ...            ...          ...         ...   \n",
      "2016255  AAGCAATAA      NaN  ...    FBtr0111127          NaN         NaN   \n",
      "2016256  ATCTCAGAA      NaN  ...    FBtr0111127          NaN         NaN   \n",
      "2016257  TTATCCTAA      NaN  ...    FBtr0111127          NaN         NaN   \n",
      "2016258  TTAACCGAT      NaN  ...    FBtr0111127          NaN         NaN   \n",
      "2016259  TATACGTAT      NaN  ...    FBtr0111127          NaN         NaN   \n",
      "\n",
      "        sift_genename sift_region sift_vartype sifts_core sift_median  \\\n",
      "0                 NaN         NaN          NaN        NaN         NaN   \n",
      "1                 NaN         NaN          NaN        NaN         NaN   \n",
      "2                 NaN         NaN          NaN        NaN         NaN   \n",
      "3                 NaN         NaN          NaN        NaN         NaN   \n",
      "4                 NaN         NaN          NaN        NaN         NaN   \n",
      "...               ...         ...          ...        ...         ...   \n",
      "2016255           NaN         NaN          NaN        NaN         NaN   \n",
      "2016256           NaN         NaN          NaN        NaN         NaN   \n",
      "2016257           NaN         NaN          NaN        NaN         NaN   \n",
      "2016258           NaN         NaN          NaN        NaN         NaN   \n",
      "2016259           NaN         NaN          NaN        NaN         NaN   \n",
      "\n",
      "        sift_pred deleteriousness  \n",
      "0             NaN             NaN  \n",
      "1             NaN             NaN  \n",
      "2             NaN             NaN  \n",
      "3             NaN             NaN  \n",
      "4             NaN             NaN  \n",
      "...           ...             ...  \n",
      "2016255       NaN             NaN  \n",
      "2016256       NaN             NaN  \n",
      "2016257       NaN             NaN  \n",
      "2016258       NaN             NaN  \n",
      "2016259       NaN             NaN  \n",
      "\n",
      "[2016260 rows x 29 columns]\n",
      "All entries in roots 'pos' column are present in tables 'pos' column.\n",
      "Updated tables:\n",
      "         chrom       pos    id ref alt  refcount  altcount   refflank  \\\n",
      "0        chr2R   4115518  AA=A   A   C        96        24  TCAGATGGG   \n",
      "1        chr2R   4115557  AA=G   G   T       124         1  CCATGGTTG   \n",
      "2        chr2R   4115559  AA=T   T   A       120         8  ATGGTTGAT   \n",
      "3        chr2R   4115753  AA=G   G   C       170         4  TTTTGTCAC   \n",
      "4        chr2R   4115803  AA=C   C   T       114        64  TATCCTACC   \n",
      "...        ...       ...   ...  ..  ..       ...       ...        ...   \n",
      "1582932  chr2R  25258011  AA=T   T   G         5       159  AATCTTTTT   \n",
      "1582933  chr2R  25258034  AA=T   T   A        10       120  ATAATAGAA   \n",
      "1582934  chr2R  25258035  AA=A   A   G        16       117  TAATAGAAA   \n",
      "1582935  chr2R  25258065  AA=T   T   A       107         1  ATTATATTT   \n",
      "1582936  chr2R  25258066  AA=A   A   T       100         1  TTATATTTT   \n",
      "\n",
      "          altflank refcodon  ...                   snpeff_trnscid  \\\n",
      "0        TCAGCTGGG      NaN  ...  RR48532_transposable_element-RA   \n",
      "1        CCATTGATG      NaN  ...  RR48532_transposable_element-RA   \n",
      "2        ATTGATGAT      NaN  ...  RR48532_transposable_element-RA   \n",
      "3        TTTTCTCAC      NaN  ...  RR48532_transposable_element-RA   \n",
      "4        TATCTTACC      NaN  ...  RR48532_transposable_element-RA   \n",
      "...            ...      ...  ...                              ...   \n",
      "1582932  AATCGTTTT      NaN  ...                   FBti0061523-RA   \n",
      "1582933  ATAAAGGAA      NaN  ...                   FBti0061523-RA   \n",
      "1582934  TAAAGGAAA      NaN  ...                   FBti0061523-RA   \n",
      "1582935  ATTAATTTT      NaN  ...                   FBti0061523-RA   \n",
      "1582936  TTAATTTTT      NaN  ...                   FBti0061523-RA   \n",
      "\n",
      "        sift_trnscid sift_geneid sift_genename sift_region sift_vartype  \\\n",
      "0                NaN         NaN           NaN         NaN          NaN   \n",
      "1                NaN         NaN           NaN         NaN          NaN   \n",
      "2                NaN         NaN           NaN         NaN          NaN   \n",
      "3                NaN         NaN           NaN         NaN          NaN   \n",
      "4                NaN         NaN           NaN         NaN          NaN   \n",
      "...              ...         ...           ...         ...          ...   \n",
      "1582932          NaN         NaN           NaN         NaN          NaN   \n",
      "1582933          NaN         NaN           NaN         NaN          NaN   \n",
      "1582934          NaN         NaN           NaN         NaN          NaN   \n",
      "1582935          NaN         NaN           NaN         NaN          NaN   \n",
      "1582936          NaN         NaN           NaN         NaN          NaN   \n",
      "\n",
      "        sifts_core sift_median sift_pred deleteriousness  \n",
      "0              NaN         NaN       NaN             NaN  \n",
      "1              NaN         NaN       NaN             NaN  \n",
      "2              NaN         NaN       NaN             NaN  \n",
      "3              NaN         NaN       NaN             NaN  \n",
      "4              NaN         NaN       NaN             NaN  \n",
      "...            ...         ...       ...             ...  \n",
      "1582932        NaN         NaN       NaN             NaN  \n",
      "1582933        NaN         NaN       NaN             NaN  \n",
      "1582934        NaN         NaN       NaN             NaN  \n",
      "1582935        NaN         NaN       NaN             NaN  \n",
      "1582936        NaN         NaN       NaN             NaN  \n",
      "\n",
      "[1582937 rows x 29 columns]\n",
      "All entries in roots 'pos' column are present in tables 'pos' column.\n",
      "Updated tables:\n",
      "         chrom       pos    id ref alt  refcount  altcount   refflank  \\\n",
      "0        chr3L     19939  AA=G   G   C        66        37  AGTGGCAAC   \n",
      "1        chr3L     19957  AA=C   C   T        70        40  TCTTCGATT   \n",
      "2        chr3L     19992  AA=C   C   A       115         4  CGAACGAGA   \n",
      "3        chr3L     20007  AA=T   T   C       116         2  CATATGCAA   \n",
      "4        chr3L     20035  AA=T   T   C       113         1  CCCATATAT   \n",
      "...        ...       ...   ...  ..  ..       ...       ...        ...   \n",
      "1795056  chr3L  24542435  AA=A   A   G       186         2  GCGGAGTAA   \n",
      "1795057  chr3L  24542447  AA=T   T   C       183         5  CGGTTAGCA   \n",
      "1795058  chr3L  24542495  AA=A   A   T       187         1  AAAAAGTTG   \n",
      "1795059  chr3L  24542574  AA=C   C   A       187         1  ACCTCTTAT   \n",
      "1795060  chr3L  24542654  AA=C   C   G       182         5  TACGCGATT   \n",
      "\n",
      "          altflank refcodon  ...  snpeff_trnscid sift_trnscid  sift_geneid  \\\n",
      "0        AGTGCCAAC      NaN  ...  FBti0061537-RA          NaN          NaN   \n",
      "1        TCTTTGATT      NaN  ...  FBti0061537-RA          NaN          NaN   \n",
      "2        CGAAAGAGA      NaN  ...  FBti0061537-RA          NaN          NaN   \n",
      "3        CATACGCAA      NaN  ...  FBti0061537-RA          NaN          NaN   \n",
      "4        CCCACATAT      NaN  ...  FBti0061537-RA          NaN          NaN   \n",
      "...            ...      ...  ...             ...          ...          ...   \n",
      "1795056  GCGGGGTAA      ggA  ...     FBtr0111146  FBtr0111146  FBgn0044510   \n",
      "1795057  CGGTCAGCA      gtT  ...     FBtr0111146  FBtr0111146  FBgn0044510   \n",
      "1795058  AAAATGTTG      aaA  ...     FBtr0111146  FBtr0111146  FBgn0044510   \n",
      "1795059  ACCTATTAT      Ctt  ...     FBtr0111146  FBtr0111146  FBgn0044510   \n",
      "1795060  TACGGGATT      cgC  ...     FBtr0111146  FBtr0111146  FBgn0044510   \n",
      "\n",
      "        sift_genename sift_region   sift_vartype sifts_core sift_median  \\\n",
      "0                 NaN         NaN            NaN        NaN         NaN   \n",
      "1                 NaN         NaN            NaN        NaN         NaN   \n",
      "2                 NaN         NaN            NaN        NaN         NaN   \n",
      "3                 NaN         NaN            NaN        NaN         NaN   \n",
      "4                 NaN         NaN            NaN        NaN         NaN   \n",
      "...               ...         ...            ...        ...         ...   \n",
      "1795056         mRpS5         CDS     SYNONYMOUS      1.000        2.78   \n",
      "1795057         mRpS5         CDS     SYNONYMOUS      1.000        2.78   \n",
      "1795058         mRpS5         CDS  NONSYNONYMOUS      0.076        2.80   \n",
      "1795059         mRpS5         CDS  NONSYNONYMOUS      0.951        2.78   \n",
      "1795060         mRpS5         CDS     SYNONYMOUS      1.000        2.80   \n",
      "\n",
      "         sift_pred deleteriousness  \n",
      "0              NaN             NaN  \n",
      "1              NaN             NaN  \n",
      "2              NaN             NaN  \n",
      "3              NaN             NaN  \n",
      "4              NaN             NaN  \n",
      "...            ...             ...  \n",
      "1795056  TOLERATED             NaN  \n",
      "1795057  TOLERATED             NaN  \n",
      "1795058  TOLERATED       tolerated  \n",
      "1795059  TOLERATED       tolerated  \n",
      "1795060  TOLERATED             NaN  \n",
      "\n",
      "[1795061 rows x 29 columns]\n",
      "All entries in roots 'pos' column are present in tables 'pos' column.\n",
      "Updated tables:\n",
      "         chrom       pos    id ref alt  refcount  altcount   refflank  \\\n",
      "0        chr3R   4174787  AA=C   C   A        64        36  AGCGCGTGC   \n",
      "1        chr3R   4174808  AA=C   C   A       114         1  TATGCAAGG   \n",
      "2        chr3R   4175100  AA=A   A   C       113         1  AGCCAGTGG   \n",
      "3        chr3R   4175101  AA=G   G   C       114         1  GCCAGTGGC   \n",
      "4        chr3R   4175102  AA=T   T   C       110         1  CCAGTGGCT   \n",
      "...        ...       ...   ...  ..  ..       ...       ...        ...   \n",
      "2087678  chr3R  32071811  AA=C   C   G       147         2  TAATCTGTT   \n",
      "2087679  chr3R  32071818  AA=C   C   T       127        13  TTCCCATTT   \n",
      "2087680  chr3R  32071884  AA=C   C   A       113         2  GCTACTAGT   \n",
      "2087681  chr3R  32072796  AA=C   C   A        95         4  CCTTCAACA   \n",
      "2087682  chr3R  32072869  AA=T   T   A        99         2  TTCGTTGAA   \n",
      "\n",
      "          altflank refcodon  ... snpeff_trnscid sift_trnscid  sift_geneid  \\\n",
      "0        AGCGAGTGC      NaN  ...    FBtr0078961  FBtr0078961  FBgn0037213   \n",
      "1        TATGAAAGG      NaN  ...    FBtr0078962  FBtr0078962  FBgn0037213   \n",
      "2        AGCCCCCGG      NaN  ...    FBtr0078961  FBtr0078961  FBgn0037213   \n",
      "3        GCCCCCGGC      NaN  ...    FBtr0078961  FBtr0078961  FBgn0037213   \n",
      "4        CCCCCGGCT      NaN  ...    FBtr0078961  FBtr0078961  FBgn0037213   \n",
      "...            ...      ...  ...            ...          ...          ...   \n",
      "2087678  TAATGTGTT      NaN  ...    FBtr0085876          NaN          NaN   \n",
      "2087679  TTCCTATTT      NaN  ...    FBtr0085876          NaN          NaN   \n",
      "2087680  GCTAATAGT      NaN  ...    FBtr0085876          NaN          NaN   \n",
      "2087681  CCTTAAACA      NaN  ...    FBtr0085876          NaN          NaN   \n",
      "2087682  TTCGATGAA      NaN  ...    FBtr0085876          NaN          NaN   \n",
      "\n",
      "        sift_genename sift_region sift_vartype sifts_core sift_median  \\\n",
      "0             CG12581       UTR_5    NONCODING        NaN         NaN   \n",
      "1             CG12581       UTR_5    NONCODING        NaN         NaN   \n",
      "2             CG12581       UTR_5    NONCODING        NaN         NaN   \n",
      "3             CG12581       UTR_5    NONCODING        NaN         NaN   \n",
      "4             CG12581       UTR_5    NONCODING        NaN         NaN   \n",
      "...               ...         ...          ...        ...         ...   \n",
      "2087678           NaN         NaN          NaN        NaN         NaN   \n",
      "2087679           NaN         NaN          NaN        NaN         NaN   \n",
      "2087680           NaN         NaN          NaN        NaN         NaN   \n",
      "2087681           NaN         NaN          NaN        NaN         NaN   \n",
      "2087682           NaN         NaN          NaN        NaN         NaN   \n",
      "\n",
      "        sift_pred deleteriousness  \n",
      "0             NaN             NaN  \n",
      "1             NaN             NaN  \n",
      "2             NaN             NaN  \n",
      "3             NaN             NaN  \n",
      "4             NaN             NaN  \n",
      "...           ...             ...  \n",
      "2087678       NaN             NaN  \n",
      "2087679       NaN             NaN  \n",
      "2087680       NaN             NaN  \n",
      "2087681       NaN             NaN  \n",
      "2087682       NaN             NaN  \n",
      "\n",
      "[2087683 rows x 29 columns]\n",
      "Not all entries in roots 'pos' column are present in tables 'pos' column.\n"
     ]
    }
   ],
   "source": [
    "tables_dfs = [chr2L_table, chr2R_table, chr3L_table, chr3R_table]\n",
    "roots_dfs = [chr2L_aa, chr2R_aa, chr3L_aa, chr3R_aa]\n",
    "for root, table in zip(roots_dfs, tables_dfs):\n",
    "    if root['POS'].isin(table['pos']).all():\n",
    "        print(\"All entries in roots 'pos' column are present in tables 'pos' column.\")\n",
    "\n",
    "        # Add values in roots's \"id\" column to tables's \"id\" column\n",
    "    table['id'] = root['ID']\n",
    "    print(\"Updated tables:\")\n",
    "    print(table)\n",
    "else:\n",
    "    print(\"Not all entries in roots 'pos' column are present in tables 'pos' column.\")"
   ]
  },
  {
   "cell_type": "markdown",
   "metadata": {},
   "source": [
    "#### __Random sampling of the alternative allele (without rooting)__"
   ]
  },
  {
   "cell_type": "markdown",
   "metadata": {},
   "source": [
    "Get the total number of haplotypes for each SNP."
   ]
  },
  {
   "cell_type": "code",
   "execution_count": 66,
   "metadata": {},
   "outputs": [],
   "source": [
    "# Add a total count column to all datasets:\n",
    "chr2L_table['totalcount'] = chr2L_table['refcount'] + chr2L_table['altcount']\n",
    "chr2R_table['totalcount'] = chr2R_table['refcount'] + chr2R_table['altcount']\n",
    "chr3L_table['totalcount'] = chr3L_table['refcount'] + chr3L_table['altcount']\n",
    "chr3R_table['totalcount'] = chr3R_table['refcount'] + chr3R_table['altcount']"
   ]
  },
  {
   "cell_type": "code",
   "execution_count": 67,
   "metadata": {},
   "outputs": [
    {
     "data": {
      "text/html": [
       "<div>\n",
       "<style scoped>\n",
       "    .dataframe tbody tr th:only-of-type {\n",
       "        vertical-align: middle;\n",
       "    }\n",
       "\n",
       "    .dataframe tbody tr th {\n",
       "        vertical-align: top;\n",
       "    }\n",
       "\n",
       "    .dataframe thead th {\n",
       "        text-align: right;\n",
       "    }\n",
       "</style>\n",
       "<table border=\"1\" class=\"dataframe\">\n",
       "  <thead>\n",
       "    <tr style=\"text-align: right;\">\n",
       "      <th></th>\n",
       "      <th>chrom</th>\n",
       "      <th>pos</th>\n",
       "      <th>id</th>\n",
       "      <th>ref</th>\n",
       "      <th>alt</th>\n",
       "      <th>refcount</th>\n",
       "      <th>altcount</th>\n",
       "      <th>refflank</th>\n",
       "      <th>altflank</th>\n",
       "      <th>refcodon</th>\n",
       "      <th>...</th>\n",
       "      <th>sift_trnscid</th>\n",
       "      <th>sift_geneid</th>\n",
       "      <th>sift_genename</th>\n",
       "      <th>sift_region</th>\n",
       "      <th>sift_vartype</th>\n",
       "      <th>sifts_core</th>\n",
       "      <th>sift_median</th>\n",
       "      <th>sift_pred</th>\n",
       "      <th>deleteriousness</th>\n",
       "      <th>totalcount</th>\n",
       "    </tr>\n",
       "  </thead>\n",
       "  <tbody>\n",
       "    <tr>\n",
       "      <th>0</th>\n",
       "      <td>chr2L</td>\n",
       "      <td>5090</td>\n",
       "      <td>AA=T</td>\n",
       "      <td>T</td>\n",
       "      <td>C</td>\n",
       "      <td>103</td>\n",
       "      <td>3</td>\n",
       "      <td>CATTTTCTC</td>\n",
       "      <td>CATTCTCTC</td>\n",
       "      <td>NaN</td>\n",
       "      <td>...</td>\n",
       "      <td>NaN</td>\n",
       "      <td>NaN</td>\n",
       "      <td>NaN</td>\n",
       "      <td>NaN</td>\n",
       "      <td>NaN</td>\n",
       "      <td>NaN</td>\n",
       "      <td>NaN</td>\n",
       "      <td>NaN</td>\n",
       "      <td>NaN</td>\n",
       "      <td>106</td>\n",
       "    </tr>\n",
       "    <tr>\n",
       "      <th>1</th>\n",
       "      <td>chr2L</td>\n",
       "      <td>5095</td>\n",
       "      <td>AA=T</td>\n",
       "      <td>T</td>\n",
       "      <td>A</td>\n",
       "      <td>16</td>\n",
       "      <td>104</td>\n",
       "      <td>TCTCTCCCA</td>\n",
       "      <td>TCTCACCCA</td>\n",
       "      <td>NaN</td>\n",
       "      <td>...</td>\n",
       "      <td>NaN</td>\n",
       "      <td>NaN</td>\n",
       "      <td>NaN</td>\n",
       "      <td>NaN</td>\n",
       "      <td>NaN</td>\n",
       "      <td>NaN</td>\n",
       "      <td>NaN</td>\n",
       "      <td>NaN</td>\n",
       "      <td>NaN</td>\n",
       "      <td>120</td>\n",
       "    </tr>\n",
       "    <tr>\n",
       "      <th>2</th>\n",
       "      <td>chr2L</td>\n",
       "      <td>5110</td>\n",
       "      <td>AA=T</td>\n",
       "      <td>T</td>\n",
       "      <td>A</td>\n",
       "      <td>130</td>\n",
       "      <td>2</td>\n",
       "      <td>AGGGTGAAA</td>\n",
       "      <td>AGGGAGAAA</td>\n",
       "      <td>NaN</td>\n",
       "      <td>...</td>\n",
       "      <td>NaN</td>\n",
       "      <td>NaN</td>\n",
       "      <td>NaN</td>\n",
       "      <td>NaN</td>\n",
       "      <td>NaN</td>\n",
       "      <td>NaN</td>\n",
       "      <td>NaN</td>\n",
       "      <td>NaN</td>\n",
       "      <td>NaN</td>\n",
       "      <td>132</td>\n",
       "    </tr>\n",
       "    <tr>\n",
       "      <th>3</th>\n",
       "      <td>chr2L</td>\n",
       "      <td>5118</td>\n",
       "      <td>AA=G</td>\n",
       "      <td>G</td>\n",
       "      <td>T</td>\n",
       "      <td>147</td>\n",
       "      <td>1</td>\n",
       "      <td>ATATGATCG</td>\n",
       "      <td>ATATTATCG</td>\n",
       "      <td>NaN</td>\n",
       "      <td>...</td>\n",
       "      <td>NaN</td>\n",
       "      <td>NaN</td>\n",
       "      <td>NaN</td>\n",
       "      <td>NaN</td>\n",
       "      <td>NaN</td>\n",
       "      <td>NaN</td>\n",
       "      <td>NaN</td>\n",
       "      <td>NaN</td>\n",
       "      <td>NaN</td>\n",
       "      <td>148</td>\n",
       "    </tr>\n",
       "    <tr>\n",
       "      <th>4</th>\n",
       "      <td>chr2L</td>\n",
       "      <td>5140</td>\n",
       "      <td>AA=C</td>\n",
       "      <td>C</td>\n",
       "      <td>T</td>\n",
       "      <td>158</td>\n",
       "      <td>2</td>\n",
       "      <td>AGTGCCAAC</td>\n",
       "      <td>AGTGTCAAC</td>\n",
       "      <td>NaN</td>\n",
       "      <td>...</td>\n",
       "      <td>NaN</td>\n",
       "      <td>NaN</td>\n",
       "      <td>NaN</td>\n",
       "      <td>NaN</td>\n",
       "      <td>NaN</td>\n",
       "      <td>NaN</td>\n",
       "      <td>NaN</td>\n",
       "      <td>NaN</td>\n",
       "      <td>NaN</td>\n",
       "      <td>160</td>\n",
       "    </tr>\n",
       "  </tbody>\n",
       "</table>\n",
       "<p>5 rows × 30 columns</p>\n",
       "</div>"
      ],
      "text/plain": [
       "   chrom   pos    id ref alt  refcount  altcount   refflank   altflank  \\\n",
       "0  chr2L  5090  AA=T   T   C       103         3  CATTTTCTC  CATTCTCTC   \n",
       "1  chr2L  5095  AA=T   T   A        16       104  TCTCTCCCA  TCTCACCCA   \n",
       "2  chr2L  5110  AA=T   T   A       130         2  AGGGTGAAA  AGGGAGAAA   \n",
       "3  chr2L  5118  AA=G   G   T       147         1  ATATGATCG  ATATTATCG   \n",
       "4  chr2L  5140  AA=C   C   T       158         2  AGTGCCAAC  AGTGTCAAC   \n",
       "\n",
       "  refcodon  ... sift_trnscid sift_geneid sift_genename sift_region  \\\n",
       "0      NaN  ...          NaN         NaN           NaN         NaN   \n",
       "1      NaN  ...          NaN         NaN           NaN         NaN   \n",
       "2      NaN  ...          NaN         NaN           NaN         NaN   \n",
       "3      NaN  ...          NaN         NaN           NaN         NaN   \n",
       "4      NaN  ...          NaN         NaN           NaN         NaN   \n",
       "\n",
       "  sift_vartype sifts_core sift_median sift_pred deleteriousness totalcount  \n",
       "0          NaN        NaN         NaN       NaN             NaN        106  \n",
       "1          NaN        NaN         NaN       NaN             NaN        120  \n",
       "2          NaN        NaN         NaN       NaN             NaN        132  \n",
       "3          NaN        NaN         NaN       NaN             NaN        148  \n",
       "4          NaN        NaN         NaN       NaN             NaN        160  \n",
       "\n",
       "[5 rows x 30 columns]"
      ]
     },
     "execution_count": 67,
     "metadata": {},
     "output_type": "execute_result"
    }
   ],
   "source": [
    "# Take a look at chr2L\n",
    "chr2L_table.head()"
   ]
  },
  {
   "cell_type": "markdown",
   "metadata": {},
   "source": [
    "Remove SNPs if the totalcount < 160. This defines a lower bound for the random sampling (the minimum number of haplotypes used to sample alternative alleles to)."
   ]
  },
  {
   "cell_type": "code",
   "execution_count": 68,
   "metadata": {},
   "outputs": [],
   "source": [
    "# Set the lower bound for the number of haplotypes\n",
    "min_number_of_haplotypes = 160"
   ]
  },
  {
   "cell_type": "code",
   "execution_count": 69,
   "metadata": {},
   "outputs": [],
   "source": [
    "chr2L_table = chr2L_table[chr2L_table['totalcount'] >= min_number_of_haplotypes]\n",
    "chr2R_table = chr2R_table[chr2R_table['totalcount'] >= min_number_of_haplotypes]\n",
    "chr3L_table = chr3L_table[chr3L_table['totalcount'] >= min_number_of_haplotypes]\n",
    "chr3R_table = chr3R_table[chr3R_table['totalcount'] >= min_number_of_haplotypes]"
   ]
  },
  {
   "cell_type": "code",
   "execution_count": 70,
   "metadata": {},
   "outputs": [
    {
     "data": {
      "text/plain": [
       "'chr2L = 1919950, chr2R = 1514541, chr3L = 1719317, chr3R = 2017777 SNPs!'"
      ]
     },
     "execution_count": 70,
     "metadata": {},
     "output_type": "execute_result"
    }
   ],
   "source": [
    "# Take a look at the number of SNPs with .shape\n",
    "\"chr2L = {}, chr2R = {}, chr3L = {}, chr3R = {} SNPs!\".format(chr2L_table.shape[0], chr2R_table.shape[0], chr3L_table.shape[0], chr3R_table.shape[0])"
   ]
  },
  {
   "cell_type": "code",
   "execution_count": 75,
   "metadata": {},
   "outputs": [],
   "source": [
    "# rooted_indexes = []\n",
    "# for idx, row in chr2L_table.iterrows():\n",
    "#     if row['id'].split('=')[1] == row['alt']:\n",
    "#         rooted_indexes.append(idx)\n",
    "    "
   ]
  },
  {
   "cell_type": "markdown",
   "metadata": {},
   "source": [
    "Before perfoming a random sampling on the alternative allele counts, swap the counts between alternative and reference based on the ancestral allele state. If the ancestral is the reference allele, keep as it is; if the ancestral is the alternative allele, make the refence count the alternative allele count."
   ]
  },
  {
   "cell_type": "code",
   "execution_count": 83,
   "metadata": {},
   "outputs": [],
   "source": [
    "# Funtion to swap the allele counts of a SNPs given the SNP ancestral state\n",
    "def root_snp_counts_by_aa(df):\n",
    "    df_copy = df.copy()\n",
    "    for idx, row in df_copy.iterrows():\n",
    "        aa = row['id'].split('=')[1]\n",
    "        alt = row['alt']\n",
    "        ref_count = row['refcount']\n",
    "        alt_count = row['altcount']\n",
    "        if aa == alt:\n",
    "            df_copy.loc[idx, 'refcount'], df_copy.loc[idx, 'altcount'] = alt_count, ref_count\n",
    "\n",
    "    return df_copy"
   ]
  },
  {
   "cell_type": "code",
   "execution_count": 92,
   "metadata": {},
   "outputs": [],
   "source": [
    "chr2L_table_rooted = root_snp_counts_by_aa(chr2L_table)\n",
    "chr2R_table_rooted = root_snp_counts_by_aa(chr2R_table)\n",
    "chr3L_table_rooted = root_snp_counts_by_aa(chr3L_table)\n",
    "chr3R_table_rooted = root_snp_counts_by_aa(chr3R_table)"
   ]
  },
  {
   "cell_type": "markdown",
   "metadata": {},
   "source": [
    "Now, random sample the alternative allele count. The function will update the input DataFrame with new values for the total counts, reference, and alternative allele counts"
   ]
  },
  {
   "cell_type": "code",
   "execution_count": 93,
   "metadata": {},
   "outputs": [],
   "source": [
    "# Impute missing haplotypes\n",
    "chr2L_table_sampled = ramdomly_sample_haplotypes(chr2L_table_rooted, min_number_of_haplotypes)\n",
    "chr2R_table_sampled = ramdomly_sample_haplotypes(chr2R_table_rooted, min_number_of_haplotypes)\n",
    "chr3L_table_sampled = ramdomly_sample_haplotypes(chr3L_table_rooted, min_number_of_haplotypes)\n",
    "chr3R_table_sampled = ramdomly_sample_haplotypes(chr3R_table_rooted, min_number_of_haplotypes)"
   ]
  },
  {
   "cell_type": "markdown",
   "metadata": {},
   "source": [
    "#### __Subset SNPs__"
   ]
  },
  {
   "cell_type": "markdown",
   "metadata": {},
   "source": [
    "__Subset each chromosome to retain only:__\n",
    "- `SNPs in short-introns`;\n",
    "- `Synonymous SNPs`;\n",
    "- `Non-synonymous SNPs`;"
   ]
  },
  {
   "cell_type": "markdown",
   "metadata": {},
   "source": [
    "__(1) Subset to retain only SNPs annotated as introns__"
   ]
  },
  {
   "cell_type": "code",
   "execution_count": 141,
   "metadata": {},
   "outputs": [],
   "source": [
    "\n",
    "chr2L_introns = chr2L_table_sampled[(chr2L_table_sampled['effect'] == \"INTRON\")]\n",
    "chr2R_introns = chr2R_table_sampled[(chr2R_table_sampled['effect'] == \"INTRON\")]\n",
    "chr3L_introns = chr3L_table_sampled[(chr3L_table_sampled['effect'] == \"INTRON\")]\n",
    "chr3R_introns = chr3R_table_sampled[(chr3R_table_sampled['effect'] == \"INTRON\")]\n"
   ]
  },
  {
   "cell_type": "code",
   "execution_count": 142,
   "metadata": {},
   "outputs": [
    {
     "data": {
      "text/plain": [
       "'chr2L = 353457, chr2R = 258584, chr3L = 321868, chr3R = 435809 SNPs!'"
      ]
     },
     "execution_count": 142,
     "metadata": {},
     "output_type": "execute_result"
    }
   ],
   "source": [
    "# Take a look at the number of SNPs with .shape\n",
    "\"chr2L = {}, chr2R = {}, chr3L = {}, chr3R = {} SNPs!\".format(chr2L_introns.shape[0], chr2R_introns.shape[0], chr3L_introns.shape[0], chr3R_introns.shape[0])"
   ]
  },
  {
   "cell_type": "markdown",
   "metadata": {},
   "source": [
    "__(2)Keep only short intronic SNPs__"
   ]
  },
  {
   "cell_type": "markdown",
   "metadata": {},
   "source": [
    "For each chromosome, retain only SNPs in `short introns`. To do that, you need to identify the short-intros in Dm6 genome and head/tail the sequence to remove head and trailing 8bp from each short-intron. These extremes migh be under selection constraints. Download the intron regions as `.BED` file from [here](https://genome.ucsc.edu/cgi-bin/hgTables). Select *D. melanogaster* assembly known as *Dm6* (Aug. 2014, BDGP Release 6 + ISO 1 MT/dm6). Define the region of interest as `genome`, select the output format as `BED` and name it. In the next page, select only `Introns plus 0`, then hit `Get BED`. Now you are ready to go. The next step is to create a Pandas DataFrame with short introns intervals."
   ]
  },
  {
   "cell_type": "code",
   "execution_count": 143,
   "metadata": {},
   "outputs": [
    {
     "name": "stdout",
     "output_type": "stream",
     "text": [
      "/Users/tur92196/WorkDir/DGN/reference\n",
      "dm3.fa                            dmel-2L-chromosome-r5.57.fasta.gz\n",
      "dm3.fa.fai                        dmel-2L-r5.57.gff.gz\n",
      "dm3ToDm6.over.chain               dmel-2R-chromosome-r5.57.fasta.gz\n",
      "dm6.fa                            dmel-2R-r5.57.gff.gz\n",
      "dm6.fa.dict                       dmel-3L-chromosome-r5.57.fasta.gz\n",
      "dm6.fa.fai                        dmel-3L-r5.57.gff.gz\n",
      "dm6_introns.bed                   dmel-3R-chromosome-r5.57.fasta.gz\n",
      "dm6_short_introns.bed             dmel-3R-r5.57.gff.gz\n",
      "dmel-2L-chromosome-r5.57.fasta\n"
     ]
    },
    {
     "name": "stderr",
     "output_type": "stream",
     "text": [
      "/opt/homebrew/anaconda3/envs/dmelnexus/lib/python3.11/site-packages/IPython/core/magics/osm.py:417: UserWarning: using dhist requires you to install the `pickleshare` library.\n",
      "  self.shell.db['dhist'] = compress_dhist(dhist)[-100:]\n"
     ]
    }
   ],
   "source": [
    "%cd ../../../../reference/\n",
    "!ls"
   ]
  },
  {
   "cell_type": "code",
   "execution_count": 144,
   "metadata": {},
   "outputs": [
    {
     "data": {
      "text/html": [
       "<div>\n",
       "<style scoped>\n",
       "    .dataframe tbody tr th:only-of-type {\n",
       "        vertical-align: middle;\n",
       "    }\n",
       "\n",
       "    .dataframe tbody tr th {\n",
       "        vertical-align: top;\n",
       "    }\n",
       "\n",
       "    .dataframe thead th {\n",
       "        text-align: right;\n",
       "    }\n",
       "</style>\n",
       "<table border=\"1\" class=\"dataframe\">\n",
       "  <thead>\n",
       "    <tr style=\"text-align: right;\">\n",
       "      <th></th>\n",
       "      <th>0</th>\n",
       "      <th>1</th>\n",
       "      <th>2</th>\n",
       "      <th>3</th>\n",
       "      <th>4</th>\n",
       "      <th>5</th>\n",
       "    </tr>\n",
       "  </thead>\n",
       "  <tbody>\n",
       "    <tr>\n",
       "      <th>0</th>\n",
       "      <td>chr2L</td>\n",
       "      <td>8387838</td>\n",
       "      <td>8387882</td>\n",
       "      <td>NM_001201797.2_intron_5_0_chr2L_8387832_f</td>\n",
       "      <td>0</td>\n",
       "      <td>+</td>\n",
       "    </tr>\n",
       "    <tr>\n",
       "      <th>1</th>\n",
       "      <td>chr2L</td>\n",
       "      <td>8387838</td>\n",
       "      <td>8387882</td>\n",
       "      <td>NM_001201795.2_intron_5_0_chr2L_8387832_f</td>\n",
       "      <td>0</td>\n",
       "      <td>+</td>\n",
       "    </tr>\n",
       "    <tr>\n",
       "      <th>2</th>\n",
       "      <td>chr2L</td>\n",
       "      <td>8387838</td>\n",
       "      <td>8387882</td>\n",
       "      <td>NM_164812.5_intron_4_0_chr2L_8387832_f</td>\n",
       "      <td>0</td>\n",
       "      <td>+</td>\n",
       "    </tr>\n",
       "    <tr>\n",
       "      <th>3</th>\n",
       "      <td>chr2L</td>\n",
       "      <td>8387838</td>\n",
       "      <td>8387882</td>\n",
       "      <td>NM_205936.3_intron_5_0_chr2L_8387832_f</td>\n",
       "      <td>0</td>\n",
       "      <td>+</td>\n",
       "    </tr>\n",
       "    <tr>\n",
       "      <th>4</th>\n",
       "      <td>chr2L</td>\n",
       "      <td>8387838</td>\n",
       "      <td>8387882</td>\n",
       "      <td>NM_205935.3_intron_5_0_chr2L_8387832_f</td>\n",
       "      <td>0</td>\n",
       "      <td>+</td>\n",
       "    </tr>\n",
       "  </tbody>\n",
       "</table>\n",
       "</div>"
      ],
      "text/plain": [
       "       0        1        2                                          3  4  5\n",
       "0  chr2L  8387838  8387882  NM_001201797.2_intron_5_0_chr2L_8387832_f  0  +\n",
       "1  chr2L  8387838  8387882  NM_001201795.2_intron_5_0_chr2L_8387832_f  0  +\n",
       "2  chr2L  8387838  8387882     NM_164812.5_intron_4_0_chr2L_8387832_f  0  +\n",
       "3  chr2L  8387838  8387882     NM_205936.3_intron_5_0_chr2L_8387832_f  0  +\n",
       "4  chr2L  8387838  8387882     NM_205935.3_intron_5_0_chr2L_8387832_f  0  +"
      ]
     },
     "execution_count": 144,
     "metadata": {},
     "output_type": "execute_result"
    }
   ],
   "source": [
    "short_introns = filter_short_introns_from_bed(\"dm6_introns.bed\", \n",
    "                                              \"dm6_short_introns.bed\", \n",
    "                                              [\"chr2L\", \"chr2R\", \"chr3L\", \"chr3R\"],\n",
    "                                              short_intron_size=86,\n",
    "                                              trailling_size=8)\n",
    "short_introns.head()"
   ]
  },
  {
   "cell_type": "markdown",
   "metadata": {},
   "source": [
    "Now, apply the filter based on the BED file intervals (to make sure to only keep `short-intronic` SNPs)"
   ]
  },
  {
   "cell_type": "code",
   "execution_count": 145,
   "metadata": {},
   "outputs": [],
   "source": [
    "# Keep only SNPs in exons and in short-introns\n",
    "chr2L_short_introns = filter_snps_by_interval(chr2L_introns, short_introns)\n",
    "chr2R_short_introns = filter_snps_by_interval(chr2R_introns, short_introns)\n",
    "chr3L_short_introns = filter_snps_by_interval(chr3L_introns, short_introns)\n",
    "chr3R_short_introns = filter_snps_by_interval(chr3R_introns, short_introns)"
   ]
  },
  {
   "cell_type": "markdown",
   "metadata": {},
   "source": [
    "Dump these DataFrames as pickle files to avoid re-running it:"
   ]
  },
  {
   "cell_type": "code",
   "execution_count": 149,
   "metadata": {},
   "outputs": [
    {
     "name": "stdout",
     "output_type": "stream",
     "text": [
      "/Users/tur92196/WorkDir/DGN/dpgp3\n",
      "\u001b[1m\u001b[36mPopfly\u001b[m\u001b[m                 \u001b[1m\u001b[36mdmel_data\u001b[m\u001b[m              \u001b[1m\u001b[36mmasked\u001b[m\u001b[m\n",
      "\u001b[1m\u001b[36m[delete]dmel_data_bckp\u001b[m\u001b[m dpgp3.txt              \u001b[1m\u001b[36moriginals\u001b[m\u001b[m\n"
     ]
    },
    {
     "name": "stderr",
     "output_type": "stream",
     "text": [
      "/opt/homebrew/anaconda3/envs/dmelnexus/lib/python3.11/site-packages/IPython/core/magics/osm.py:417: UserWarning: using dhist requires you to install the `pickleshare` library.\n",
      "  self.shell.db['dhist'] = compress_dhist(dhist)[-100:]\n"
     ]
    }
   ],
   "source": [
    "# %cd ../dpgp3\n",
    "#!ls \n",
    "%cd WorkDir/DGN/dpgp3/\n",
    "!ls "
   ]
  },
  {
   "cell_type": "code",
   "execution_count": 150,
   "metadata": {},
   "outputs": [],
   "source": [
    "# Pickle chrm short-introns DataFrames\n",
    "# chr2L_short_introns.to_pickle(\"masked/vcfs/tables/chr2L_short_introns_sampled_rooted.pkl\")\n",
    "# chr2R_short_introns.to_pickle(\"masked/vcfs/tables/chr2R_short_introns_sampled_rooted.pkl\")\n",
    "# chr3L_short_introns.to_pickle(\"masked/vcfs/tables/chr3L_short_introns_sampled_rooted.pkl\")\n",
    "# chr3R_short_introns.to_pickle(\"masked/vcfs/tables/chr3R_short_introns_sampled_rooted.pkl\")"
   ]
  },
  {
   "cell_type": "code",
   "execution_count": 10,
   "metadata": {},
   "outputs": [],
   "source": [
    "# Load pickled chrm short-introns DataFrames\n",
    "# chr2L_short_introns = pd.read_pickle(\"masked/vcfs/tables/chr2L_short_introns_sampled_rooted.pkl\")\n",
    "# chr2R_short_introns = pd.read_pickle(\"masked/vcfs/tables/chr2R_short_introns_sampled_rooted.pkl\")\n",
    "# chr3L_short_introns = pd.read_pickle(\"masked/vcfs/tables/chr3L_short_introns_sampled_rooted.pkl\")\n",
    "# chr3R_short_introns = pd.read_pickle(\"masked/vcfs/tables/chr3R_short_introns_sampled_rooted.pkl\")"
   ]
  },
  {
   "cell_type": "markdown",
   "metadata": {},
   "source": [
    "Check how many short-introns SNPs were retained:"
   ]
  },
  {
   "cell_type": "code",
   "execution_count": 151,
   "metadata": {},
   "outputs": [
    {
     "data": {
      "text/plain": [
       "'chr2L = 2728, chr2R = 2384, chr3L = 2073, chr3R = 2967 SNPs!'"
      ]
     },
     "execution_count": 151,
     "metadata": {},
     "output_type": "execute_result"
    }
   ],
   "source": [
    "# Take a look at the number of SNPs with .shape\n",
    "\"chr2L = {}, chr2R = {}, chr3L = {}, chr3R = {} SNPs!\".format(chr2L_short_introns.shape[0], chr2R_short_introns.shape[0], chr3L_short_introns.shape[0], chr3R_short_introns.shape[0])"
   ]
  },
  {
   "cell_type": "markdown",
   "metadata": {},
   "source": [
    "__(3) Take synonymous and non-synonymous SNPs__"
   ]
  },
  {
   "cell_type": "code",
   "execution_count": 152,
   "metadata": {},
   "outputs": [],
   "source": [
    "chr2L_exons = chr2L_table_sampled[(chr2L_table_sampled['effect'] == \"NON_SYNONYMOUS_CODING\") | (chr2L_table_sampled['effect'] == \"SYNONYMOUS_CODING\")]\n",
    "chr2R_exons = chr2R_table_sampled[(chr2R_table_sampled['effect'] == \"NON_SYNONYMOUS_CODING\") | (chr2R_table_sampled['effect'] == \"SYNONYMOUS_CODING\")]\n",
    "chr3L_exons = chr3L_table_sampled[(chr3L_table_sampled['effect'] == \"NON_SYNONYMOUS_CODING\") | (chr3L_table_sampled['effect'] == \"SYNONYMOUS_CODING\")]\n",
    "chr3R_exons = chr3R_table_sampled[(chr3R_table_sampled['effect'] == \"NON_SYNONYMOUS_CODING\") | (chr3R_table_sampled['effect'] == \"SYNONYMOUS_CODING\")]\n"
   ]
  },
  {
   "cell_type": "code",
   "execution_count": 153,
   "metadata": {},
   "outputs": [],
   "source": [
    "# Pickle chrm short-introns DataFrames\n",
    "# chr2L_exons.to_pickle(\"masked/vcfs/tables/chr2L_exons_sampled_rooted.pkl\")\n",
    "# chr2R_exons.to_pickle(\"masked/vcfs/tables/chr2R_exons_sampled_rooted.pkl\")\n",
    "# chr3L_exons.to_pickle(\"masked/vcfs/tables/chr3L_exons_sampled_rooted.pkl\")\n",
    "# chr3R_exons.to_pickle(\"masked/vcfs/tables/chr3R_exons_sampled_rooted.pkl\")"
   ]
  },
  {
   "cell_type": "code",
   "execution_count": 12,
   "metadata": {},
   "outputs": [],
   "source": [
    "# Load pickled chrm short-introns DataFrames\n",
    "# chr2L_exons = pd.read_pickle(\"masked/vcfs/tables/chr2L_exons_sampled_rooted.pkl\")\n",
    "# chr2R_exons = pd.read_pickle(\"masked/vcfs/tables/chr2R_exons_sampled_rooted.pkl\")\n",
    "# chr3L_exons = pd.read_pickle(\"masked/vcfs/tables/chr3L_exons_sampled_rooted.pkl\")\n",
    "# chr3R_exons = pd.read_pickle(\"masked/vcfs/tables/chr3R_exons_sampled_rooted.pkl\")"
   ]
  },
  {
   "cell_type": "code",
   "execution_count": 154,
   "metadata": {},
   "outputs": [
    {
     "data": {
      "text/plain": [
       "'chr2L = 255680, chr2R = 236781, chr3L = 226182, chr3R = 271278 SNPs!'"
      ]
     },
     "execution_count": 154,
     "metadata": {},
     "output_type": "execute_result"
    }
   ],
   "source": [
    "# Take a look at the number of SNPs with .shape\n",
    "\"chr2L = {}, chr2R = {}, chr3L = {}, chr3R = {} SNPs!\".format(chr2L_exons.shape[0], chr2R_exons.shape[0], chr3L_exons.shape[0], chr3R_exons.shape[0])"
   ]
  },
  {
   "cell_type": "markdown",
   "metadata": {},
   "source": [
    "#### __Get the SFSs__"
   ]
  },
  {
   "cell_type": "markdown",
   "metadata": {},
   "source": [
    "For introns:"
   ]
  },
  {
   "cell_type": "code",
   "execution_count": 155,
   "metadata": {},
   "outputs": [],
   "source": [
    "chr2L_short_introns_sfs = create_unfolded_sfs_from_df(chr2L_short_introns, \"altcount\", min_number_of_haplotypes)\n",
    "chr2R_short_introns_sfs = create_unfolded_sfs_from_df(chr2R_short_introns, \"altcount\", min_number_of_haplotypes)\n",
    "chr3L_short_introns_sfs = create_unfolded_sfs_from_df(chr3L_short_introns, \"altcount\", min_number_of_haplotypes)\n",
    "chr3R_short_introns_sfs = create_unfolded_sfs_from_df(chr3R_short_introns, \"altcount\", min_number_of_haplotypes)"
   ]
  },
  {
   "cell_type": "markdown",
   "metadata": {},
   "source": [
    "Then combined each chromosome short-introns SFS"
   ]
  },
  {
   "cell_type": "code",
   "execution_count": 156,
   "metadata": {},
   "outputs": [],
   "source": [
    "short_introns_sfs_array = np.array([\n",
    "    chr2L_short_introns_sfs,\n",
    "    chr2R_short_introns_sfs,\n",
    "    chr3L_short_introns_sfs,\n",
    "    chr3R_short_introns_sfs\n",
    "])\n",
    "\n",
    "short_introns_sfs = np.sum(short_introns_sfs_array, 0).tolist()"
   ]
  },
  {
   "cell_type": "markdown",
   "metadata": {},
   "source": [
    "For the synonymous SNPs"
   ]
  },
  {
   "cell_type": "code",
   "execution_count": 157,
   "metadata": {},
   "outputs": [],
   "source": [
    "chr2L_synonymous = chr2L_exons[(chr2L_exons['effect'] == \"SYNONYMOUS_CODING\")]\n",
    "chr2R_synonymous = chr2R_exons[(chr2R_exons['effect'] == \"SYNONYMOUS_CODING\")]\n",
    "chr3L_synonymous = chr3L_exons[(chr3L_exons['effect'] == \"SYNONYMOUS_CODING\")]\n",
    "chr3R_synonymous = chr3R_exons[(chr3R_exons['effect'] == \"SYNONYMOUS_CODING\")]\n",
    "\n",
    "synonymous_sfs_array = np.array([\n",
    "    create_unfolded_sfs_from_df(chr2L_synonymous, \"altcount\", min_number_of_haplotypes),\n",
    "    create_unfolded_sfs_from_df(chr2R_synonymous, \"altcount\", min_number_of_haplotypes),\n",
    "    create_unfolded_sfs_from_df(chr3L_synonymous, \"altcount\", min_number_of_haplotypes),\n",
    "    create_unfolded_sfs_from_df(chr3R_synonymous, \"altcount\", min_number_of_haplotypes)\n",
    "])\n",
    "\n",
    "synonymous_sfs = np.sum(synonymous_sfs_array, 0).tolist()"
   ]
  },
  {
   "cell_type": "markdown",
   "metadata": {},
   "source": [
    "And for non-synonymous ones:"
   ]
  },
  {
   "cell_type": "code",
   "execution_count": 158,
   "metadata": {},
   "outputs": [],
   "source": [
    "chr2L_nonsynonymous = chr2L_exons[(chr2L_exons['effect'] == \"NON_SYNONYMOUS_CODING\")]\n",
    "chr2R_nonsynonymous = chr2R_exons[(chr2R_exons['effect'] == \"NON_SYNONYMOUS_CODING\")]\n",
    "chr3L_nonsynonymous = chr3L_exons[(chr3L_exons['effect'] == \"NON_SYNONYMOUS_CODING\")]\n",
    "chr3R_nonsynonymous = chr3R_exons[(chr3R_exons['effect'] == \"NON_SYNONYMOUS_CODING\")]\n",
    "\n",
    "nonsynonymous_sfs_array = np.array([\n",
    "    create_unfolded_sfs_from_df(chr2L_nonsynonymous, \"altcount\", min_number_of_haplotypes),\n",
    "    create_unfolded_sfs_from_df(chr2R_nonsynonymous, \"altcount\", min_number_of_haplotypes),\n",
    "    create_unfolded_sfs_from_df(chr3L_nonsynonymous, \"altcount\", min_number_of_haplotypes),\n",
    "    create_unfolded_sfs_from_df(chr3R_nonsynonymous, \"altcount\", min_number_of_haplotypes)\n",
    "])\n",
    "\n",
    "nonsynonymous_sfs = np.sum(nonsynonymous_sfs_array, 0).tolist()"
   ]
  },
  {
   "cell_type": "code",
   "execution_count": 159,
   "metadata": {},
   "outputs": [
    {
     "name": "stdout",
     "output_type": "stream",
     "text": [
      "/Users/tur92196/WorkDir/DGN/dpgp3/masked/vcfs/sfss\n",
      "\u001b[1m\u001b[36mno-pairing\u001b[m\u001b[m \u001b[1m\u001b[36mpaired\u001b[m\u001b[m\n"
     ]
    }
   ],
   "source": [
    "# Save unfolded SFSs\n",
    "%cd masked/vcfs/sfss/\n",
    "!ls"
   ]
  },
  {
   "cell_type": "code",
   "execution_count": 160,
   "metadata": {},
   "outputs": [],
   "source": [
    "output_sfs_file = \"no-pairing/ZI_sfs_si_nopairing_sampled_unfolded_rooted.txt\"\n",
    "\n",
    "with open(output_sfs_file, \"w\") as of:\n",
    "    of.write(\"Introns, synonymous, and nonsynonymous SFS of \" + str(min_number_of_haplotypes) + \" samples\" + \"\\n\")\n",
    "    of.write(\"\\t\".join(str(item) for item in short_introns_sfs) + \"\\n\")\n",
    "    of.write(\"\\n\")\n",
    "    of.write(\"\\t\".join(str(item) for item in synonymous_sfs) + \"\\n\")\n",
    "    of.write(\"\\n\")\n",
    "    of.write(\"\\t\".join(str(item) for item in nonsynonymous_sfs) + \"\\n\")"
   ]
  },
  {
   "cell_type": "markdown",
   "metadata": {},
   "source": [
    "#### __Fold the SFSs__"
   ]
  },
  {
   "cell_type": "code",
   "execution_count": 161,
   "metadata": {},
   "outputs": [],
   "source": [
    "short_introns_sfs_folded = fold_sfs(short_introns_sfs)\n",
    "synonymous_sfs_folded = fold_sfs(synonymous_sfs)\n",
    "nonsynonymous_sfs_folded = fold_sfs(nonsynonymous_sfs)"
   ]
  },
  {
   "cell_type": "markdown",
   "metadata": {},
   "source": [
    "Save the three SFSs to a file:"
   ]
  },
  {
   "cell_type": "code",
   "execution_count": 162,
   "metadata": {},
   "outputs": [
    {
     "name": "stdout",
     "output_type": "stream",
     "text": [
      "[Errno 2] No such file or directory: 'masked/vcfs/sfss/'\n",
      "/Users/tur92196/WorkDir/DGN/dpgp3/masked/vcfs/sfss\n",
      "\u001b[1m\u001b[36mno-pairing\u001b[m\u001b[m \u001b[1m\u001b[36mpaired\u001b[m\u001b[m\n"
     ]
    },
    {
     "name": "stderr",
     "output_type": "stream",
     "text": [
      "/opt/homebrew/anaconda3/envs/dmelnexus/lib/python3.11/site-packages/IPython/core/magics/osm.py:393: UserWarning: using bookmarks requires you to install the `pickleshare` library.\n",
      "  bkms = self.shell.db.get('bookmarks', {})\n"
     ]
    }
   ],
   "source": [
    "%cd masked/vcfs/sfss/\n",
    "!ls "
   ]
  },
  {
   "cell_type": "code",
   "execution_count": 163,
   "metadata": {},
   "outputs": [],
   "source": [
    "output_sfs_file = \"no-pairing/ZI_sfs_si_nopairing_sampled_folded_rooted.txt\"\n",
    "\n",
    "with open(output_sfs_file, \"w\") as of:\n",
    "    of.write(\"Introns, synonymous, and nonsynonymous SFS of \" + str(min_number_of_haplotypes) + \" samples\" + \"\\n\")\n",
    "    of.write(\"\\t\".join(str(item) for item in short_introns_sfs_folded) + \"\\n\")\n",
    "    of.write(\"\\n\")\n",
    "    of.write(\"\\t\".join(str(item) for item in synonymous_sfs_folded) + \"\\n\")\n",
    "    of.write(\"\\n\")\n",
    "    of.write(\"\\t\".join(str(item) for item in nonsynonymous_sfs_folded) + \"\\n\")"
   ]
  },
  {
   "cell_type": "markdown",
   "metadata": {},
   "source": [
    "#### __Pair neutral and non-neutral SNPs by mutational context__\n",
    "\n",
    "Now that we had a simple way to get the SFSs, we are going to add some complexities and pair neutral and non-neutral SNPs by their mutational context."
   ]
  },
  {
   "cell_type": "code",
   "execution_count": 164,
   "metadata": {},
   "outputs": [
    {
     "name": "stdout",
     "output_type": "stream",
     "text": [
      "\u001b[1m\u001b[36mno-pairing\u001b[m\u001b[m \u001b[1m\u001b[36mpaired\u001b[m\u001b[m\n"
     ]
    }
   ],
   "source": [
    "!ls"
   ]
  },
  {
   "cell_type": "markdown",
   "metadata": {},
   "source": [
    "##### Remove SNPs that are close to each other, as they might cause ambiguity on the sequence category."
   ]
  },
  {
   "cell_type": "markdown",
   "metadata": {},
   "source": [
    "For Short-introns:"
   ]
  },
  {
   "cell_type": "code",
   "execution_count": 165,
   "metadata": {},
   "outputs": [],
   "source": [
    "# Get True for SNPs far apart and False otherwise, and insert a column on each chromosome DataFrame:\n",
    "# Insert the new column at position 3\n",
    "chr2L_short_introns.insert(2, \"pos_to_keep\", find_consecutive_positions(list(chr2L_short_introns[\"pos\"])))\n",
    "chr2R_short_introns.insert(2, \"pos_to_keep\", find_consecutive_positions(list(chr2R_short_introns[\"pos\"])))\n",
    "chr3L_short_introns.insert(2, \"pos_to_keep\", find_consecutive_positions(list(chr3L_short_introns[\"pos\"])))\n",
    "chr3R_short_introns.insert(2, \"pos_to_keep\", find_consecutive_positions(list(chr3R_short_introns[\"pos\"])))"
   ]
  },
  {
   "cell_type": "code",
   "execution_count": 166,
   "metadata": {},
   "outputs": [],
   "source": [
    "chr2L_short_introns = chr2L_short_introns[chr2L_short_introns['pos_to_keep'] == True]\n",
    "chr2R_short_introns = chr2R_short_introns[chr2R_short_introns['pos_to_keep'] == True]\n",
    "chr3L_short_introns = chr3L_short_introns[chr3L_short_introns['pos_to_keep'] == True]\n",
    "chr3R_short_introns = chr3R_short_introns[chr3R_short_introns['pos_to_keep'] == True]"
   ]
  },
  {
   "cell_type": "code",
   "execution_count": 167,
   "metadata": {},
   "outputs": [
    {
     "data": {
      "text/plain": [
       "'chr2L = 1850, chr2R = 1632, chr3L = 1484, chr3R = 2134 SNPs!'"
      ]
     },
     "execution_count": 167,
     "metadata": {},
     "output_type": "execute_result"
    }
   ],
   "source": [
    "# Take a look at the number of SNPs with .shape\n",
    "\"chr2L = {}, chr2R = {}, chr3L = {}, chr3R = {} SNPs!\".format(chr2L_short_introns.shape[0], chr2R_short_introns.shape[0], chr3L_short_introns.shape[0], chr3R_short_introns.shape[0])"
   ]
  },
  {
   "cell_type": "markdown",
   "metadata": {},
   "source": [
    "For Exons:"
   ]
  },
  {
   "cell_type": "code",
   "execution_count": 168,
   "metadata": {},
   "outputs": [],
   "source": [
    "# Get True for SNPs far apart and False otherwise, and insert a column on each chromosome DataFrame:\n",
    "# Insert the new column at position 3\n",
    "chr2L_exons.insert(2, \"pos_to_keep\", find_consecutive_positions(list(chr2L_exons[\"pos\"])))\n",
    "chr2R_exons.insert(2, \"pos_to_keep\", find_consecutive_positions(list(chr2R_exons[\"pos\"])))\n",
    "chr3L_exons.insert(2, \"pos_to_keep\", find_consecutive_positions(list(chr3L_exons[\"pos\"])))\n",
    "chr3R_exons.insert(2, \"pos_to_keep\", find_consecutive_positions(list(chr3R_exons[\"pos\"])))"
   ]
  },
  {
   "cell_type": "code",
   "execution_count": 169,
   "metadata": {},
   "outputs": [],
   "source": [
    "chr2L_exons = chr2L_exons[chr2L_exons['pos_to_keep'] == True]\n",
    "chr2R_exons = chr2R_exons[chr2R_exons['pos_to_keep'] == True]\n",
    "chr3L_exons = chr3L_exons[chr3L_exons['pos_to_keep'] == True]\n",
    "chr3R_exons = chr3R_exons[chr3R_exons['pos_to_keep'] == True]"
   ]
  },
  {
   "cell_type": "code",
   "execution_count": 170,
   "metadata": {},
   "outputs": [
    {
     "data": {
      "text/plain": [
       "'chr2L = 222389, chr2R = 209955, chr3L = 199710, chr3R = 240024 SNPs!'"
      ]
     },
     "execution_count": 170,
     "metadata": {},
     "output_type": "execute_result"
    }
   ],
   "source": [
    "# Take a look at the number of SNPs with .shape\n",
    "\"chr2L = {}, chr2R = {}, chr3L = {}, chr3R = {} SNPs!\".format(chr2L_exons.shape[0], chr2R_exons.shape[0], chr3L_exons.shape[0], chr3R_exons.shape[0])"
   ]
  },
  {
   "cell_type": "markdown",
   "metadata": {},
   "source": [
    "##### Add the sequence category for each SNP"
   ]
  },
  {
   "cell_type": "code",
   "execution_count": 171,
   "metadata": {},
   "outputs": [],
   "source": [
    "# Insert the new column at position 9\n",
    "# For introns:\n",
    "chr2L_short_introns.insert(8, \"sequence_category\", set_snp_sequence_category(chr2L_short_introns))\n",
    "chr2R_short_introns.insert(8, \"sequence_category\", set_snp_sequence_category(chr2R_short_introns))\n",
    "chr3L_short_introns.insert(8, \"sequence_category\", set_snp_sequence_category(chr3L_short_introns))\n",
    "chr3R_short_introns.insert(8, \"sequence_category\", set_snp_sequence_category(chr3R_short_introns))\n",
    "\n",
    "# For exons:\n",
    "chr2L_exons.insert(8, \"sequence_category\", set_snp_sequence_category(chr2L_exons))\n",
    "chr2R_exons.insert(8, \"sequence_category\", set_snp_sequence_category(chr2R_exons))\n",
    "chr3L_exons.insert(8, \"sequence_category\", set_snp_sequence_category(chr3L_exons))\n",
    "chr3R_exons.insert(8, \"sequence_category\", set_snp_sequence_category(chr3R_exons))"
   ]
  },
  {
   "cell_type": "markdown",
   "metadata": {},
   "source": [
    "##### Create the sequence category dict"
   ]
  },
  {
   "cell_type": "code",
   "execution_count": 172,
   "metadata": {},
   "outputs": [
    {
     "name": "stdout",
     "output_type": "stream",
     "text": [
      "{1: ['AA/CA', 'AC/AA'], 2: ['CA/CA', 'CC/AA'], 3: ['GA/CA', 'GC/AA'], 4: ['TA/CA', 'TC/AA'], 5: ['AA/CC', 'AC/AC'], 6: ['CA/CC', 'CC/AC'], 7: ['GA/CC', 'GC/AC'], 8: ['TA/CC', 'TC/AC'], 9: ['AA/CG', 'AC/AG'], 10: ['CA/CG', 'CC/AG'], 11: ['GA/CG', 'GC/AG'], 12: ['TA/CG', 'TC/AG'], 13: ['AA/CT', 'AC/AT'], 14: ['CA/CT', 'CC/AT'], 15: ['GA/CT', 'GC/AT'], 16: ['TA/CT', 'TC/AT'], 17: ['AA/GA', 'AG/AA'], 18: ['CA/GA', 'CG/AA'], 19: ['GA/GA', 'GG/AA'], 20: ['TA/GA', 'TG/AA'], 21: ['AA/GC', 'AG/AC'], 22: ['CA/GC', 'CG/AC'], 23: ['GA/GC', 'GG/AC'], 24: ['TA/GC', 'TG/AC'], 25: ['AA/GG', 'AG/AG'], 26: ['CA/GG', 'CG/AG'], 27: ['GA/GG', 'GG/AG'], 28: ['TA/GG', 'TG/AG'], 29: ['AA/GT', 'AG/AT'], 30: ['CA/GT', 'CG/AT'], 31: ['GA/GT', 'GG/AT'], 32: ['TA/GT', 'TG/AT'], 33: ['AA/TA', 'AT/AA'], 34: ['CA/TA', 'CT/AA'], 35: ['GA/TA', 'GT/AA'], 36: ['TA/TA', 'TT/AA'], 37: ['AA/TC', 'AT/AC'], 38: ['CA/TC', 'CT/AC'], 39: ['GA/TC', 'GT/AC'], 40: ['TA/TC', 'TT/AC'], 41: ['AA/TG', 'AT/AG'], 42: ['CA/TG', 'CT/AG'], 43: ['GA/TG', 'GT/AG'], 44: ['TA/TG', 'TT/AG'], 45: ['AA/TT', 'AT/AT'], 46: ['CA/TT', 'CT/AT'], 47: ['GA/TT', 'GT/AT'], 48: ['TA/TT', 'TT/AT'], 49: ['AC/GA', 'AG/CA'], 50: ['CC/GA', 'CG/CA'], 51: ['GC/GA', 'GG/CA'], 52: ['TC/GA', 'TG/CA'], 53: ['AC/GC', 'AG/CC'], 54: ['CC/GC', 'CG/CC'], 55: ['GC/GC', 'GG/CC'], 56: ['TC/GC', 'TG/CC'], 57: ['AC/GG', 'AG/CG'], 58: ['CC/GG', 'CG/CG'], 59: ['GC/GG', 'GG/CG'], 60: ['TC/GG', 'TG/CG'], 61: ['AC/GT', 'AG/CT'], 62: ['CC/GT', 'CG/CT'], 63: ['GC/GT', 'GG/CT'], 64: ['TC/GT', 'TG/CT'], 65: ['AC/TA', 'AT/CA'], 66: ['CC/TA', 'CT/CA'], 67: ['GC/TA', 'GT/CA'], 68: ['TC/TA', 'TT/CA'], 69: ['AC/TC', 'AT/CC'], 70: ['CC/TC', 'CT/CC'], 71: ['GC/TC', 'GT/CC'], 72: ['TC/TC', 'TT/CC'], 73: ['AC/TG', 'AT/CG'], 74: ['CC/TG', 'CT/CG'], 75: ['GC/TG', 'GT/CG'], 76: ['TC/TG', 'TT/CG'], 77: ['AC/TT', 'AT/CT'], 78: ['CC/TT', 'CT/CT'], 79: ['GC/TT', 'GT/CT'], 80: ['TC/TT', 'TT/CT'], 81: ['AG/TA', 'AT/GA'], 82: ['CG/TA', 'CT/GA'], 83: ['GG/TA', 'GT/GA'], 84: ['TG/TA', 'TT/GA'], 85: ['AG/TC', 'AT/GC'], 86: ['CG/TC', 'CT/GC'], 87: ['GG/TC', 'GT/GC'], 88: ['TG/TC', 'TT/GC'], 89: ['AG/TG', 'AT/GG'], 90: ['CG/TG', 'CT/GG'], 91: ['GG/TG', 'GT/GG'], 92: ['TG/TG', 'TT/GG'], 93: ['AG/TT', 'AT/GT'], 94: ['CG/TT', 'CT/GT'], 95: ['GG/TT', 'GT/GT'], 96: ['TG/TT', 'TT/GT']}\n"
     ]
    }
   ],
   "source": [
    "# First create a object for the sequence categories dictionary\n",
    "sequence_categories_dict = create_sequence_categories_dict()\n",
    "print(sequence_categories_dict)"
   ]
  },
  {
   "cell_type": "code",
   "execution_count": 173,
   "metadata": {},
   "outputs": [],
   "source": [
    "#  Create three dictionaries for each chromosome\n",
    "# For introns\n",
    "chr2L_short_introns_seqclasses = create_snp_dict_wrapper(chr2L_short_introns, sequence_categories_dict, \"introns\")\n",
    "chr2R_short_introns_seqclasses = create_snp_dict_wrapper(chr2R_short_introns, sequence_categories_dict, \"introns\")\n",
    "chr3L_short_introns_seqclasses = create_snp_dict_wrapper(chr3L_short_introns, sequence_categories_dict, \"introns\")\n",
    "chr3R_short_introns_seqclasses = create_snp_dict_wrapper(chr3R_short_introns, sequence_categories_dict, \"introns\")\n",
    "\n",
    "# For exons\n",
    "chr2L_nonsyns_seqclasses, chr2L_syns_seqclasses = create_snp_dict_wrapper(chr2L_exons, sequence_categories_dict, \"exons\")\n",
    "chr2R_nonsyns_seqclasses, chr2R_syns_seqclasses = create_snp_dict_wrapper(chr2R_exons, sequence_categories_dict, \"exons\")\n",
    "chr3L_nonsyns_seqclasses, chr3L_syns_seqclasses = create_snp_dict_wrapper(chr3L_exons, sequence_categories_dict, \"exons\")\n",
    "chr3R_nonsyns_seqclasses, chr3R_syns_seqclasses = create_snp_dict_wrapper(chr3R_exons, sequence_categories_dict, \"exons\")\n"
   ]
  },
  {
   "cell_type": "markdown",
   "metadata": {},
   "source": [
    "##### Find mutational context pairs and get the SFSs\n",
    "Now, find the pairs and obtain the SFSs for each member of the pair. These are the valid pairs we are looking to have:\n",
    "- `short-intron SNP` and `non-synonymous SNPs`;\n",
    "- `short-intron SNP` and `synonymous SNPs`;\n",
    "- `synonymous SNP` and `non-synonymous SNPs` (maybe?)"
   ]
  },
  {
   "cell_type": "markdown",
   "metadata": {},
   "source": [
    "For `short-intron SNP` and `non-synonymous SNPs`"
   ]
  },
  {
   "cell_type": "code",
   "execution_count": 174,
   "metadata": {},
   "outputs": [],
   "source": [
    "# Find pairs of SNPs that are closest to each other\n",
    "chr2L_si_nonsyn_pairs_si, chr2L_si_nonsyn_pairs_nonsyn = find_closest_snp_pairs(chr2L_short_introns_seqclasses, chr2L_nonsyns_seqclasses)\n",
    "chr2R_si_nonsyn_pairs_si, chr2R_si_nonsyn_pairs_nonsyn = find_closest_snp_pairs(chr2R_short_introns_seqclasses, chr2R_nonsyns_seqclasses)\n",
    "chr3L_si_nonsyn_pairs_si, chr3L_si_nonsyn_pairs_nonsyn = find_closest_snp_pairs(chr3L_short_introns_seqclasses, chr3L_nonsyns_seqclasses)\n",
    "chr3R_si_nonsyn_pairs_si, chr3R_si_nonsyn_pairs_nonsyn = find_closest_snp_pairs(chr3R_short_introns_seqclasses, chr3R_nonsyns_seqclasses)"
   ]
  },
  {
   "cell_type": "code",
   "execution_count": 175,
   "metadata": {},
   "outputs": [
    {
     "name": "stdout",
     "output_type": "stream",
     "text": [
      "Working with imputed data...\n",
      "Working with imputed data...\n",
      "Working with imputed data...\n",
      "Working with imputed data...\n",
      "Working with imputed data...\n",
      "Working with imputed data...\n",
      "Working with imputed data...\n",
      "Working with imputed data...\n"
     ]
    }
   ],
   "source": [
    "# Get the SFS for the short introns SNPs\n",
    "# Remember: the data is now sampled, so the max_sample_size means the lower bound set to 160.\n",
    "# Use the imputed argument, knowing that the data was sampled.\n",
    "short_introns_paired_nonsyn_sfs_seqclasses_array = np.array([\n",
    "    create_unfolded_sfs_from_snp_dict(chr2L_si_nonsyn_pairs_si, \"imputed\", min_number_of_haplotypes, folded=True),\n",
    "    create_unfolded_sfs_from_snp_dict(chr2R_si_nonsyn_pairs_si, \"imputed\", min_number_of_haplotypes, folded=True),\n",
    "    create_unfolded_sfs_from_snp_dict(chr3L_si_nonsyn_pairs_si, \"imputed\", min_number_of_haplotypes, folded=True),\n",
    "    create_unfolded_sfs_from_snp_dict(chr3R_si_nonsyn_pairs_si, \"imputed\", min_number_of_haplotypes, folded=True)\n",
    "])\n",
    "\n",
    "short_introns_paired_nonsyn_seqclasses_sfs_folded = np.sum(short_introns_paired_nonsyn_sfs_seqclasses_array, 0).tolist()\n",
    "\n",
    "# Get the SFS for the nonsynonymous SNPs\n",
    "nonsynonymous_paired_si_sfs_seqclasses_array = np.array([\n",
    "    create_unfolded_sfs_from_snp_dict(chr2L_si_nonsyn_pairs_nonsyn, \"imputed\", min_number_of_haplotypes, folded=True),\n",
    "    create_unfolded_sfs_from_snp_dict(chr2R_si_nonsyn_pairs_nonsyn, \"imputed\", min_number_of_haplotypes, folded=True),\n",
    "    create_unfolded_sfs_from_snp_dict(chr3L_si_nonsyn_pairs_nonsyn, \"imputed\", min_number_of_haplotypes, folded=True),\n",
    "    create_unfolded_sfs_from_snp_dict(chr3R_si_nonsyn_pairs_nonsyn, \"imputed\", min_number_of_haplotypes, folded=True)\n",
    "])\n",
    "\n",
    "nonsynonymous_paired_si_seqclasses_sfs_folded = np.sum(nonsynonymous_paired_si_sfs_seqclasses_array, 0).tolist()"
   ]
  },
  {
   "cell_type": "code",
   "execution_count": 176,
   "metadata": {},
   "outputs": [],
   "source": [
    "# Save the pairs to a file\n",
    "si_nonsyn_pair_output_sfs_file = \"paired/ZI_sfs_si_paired_with_nonsynonymous_sampled_folded_rooted.txt\"\n",
    "\n",
    "with open(si_nonsyn_pair_output_sfs_file, \"w\") as of:\n",
    "    of.write(\"Introns and nonsynonymous SFS of \" + str(min_number_of_haplotypes) + \" samples\" + \"\\n\")\n",
    "    of.write(\"\\t\".join(str(item) for item in short_introns_paired_nonsyn_seqclasses_sfs_folded) + \"\\n\")\n",
    "    of.write(\"\\n\")\n",
    "    of.write(\"\\t\".join(str(item) for item in nonsynonymous_paired_si_seqclasses_sfs_folded) + \"\\n\")"
   ]
  },
  {
   "cell_type": "markdown",
   "metadata": {},
   "source": [
    "For `short-intron SNP` and `synonymous SNPs`"
   ]
  },
  {
   "cell_type": "code",
   "execution_count": 177,
   "metadata": {},
   "outputs": [],
   "source": [
    "# Find pairs of SNPs that are closest to each other\n",
    "chr2L_si_syn_pairs_si, chr2L_si_syn_pairs_syn = find_closest_snp_pairs(chr2L_short_introns_seqclasses, chr2L_syns_seqclasses)\n",
    "chr2R_si_syn_pairs_si, chr2R_si_syn_pairs_syn = find_closest_snp_pairs(chr2R_short_introns_seqclasses, chr2R_syns_seqclasses)\n",
    "chr3L_si_syn_pairs_si, chr3L_si_syn_pairs_syn = find_closest_snp_pairs(chr3L_short_introns_seqclasses, chr3L_syns_seqclasses)\n",
    "chr3R_si_syn_pairs_si, chr3R_si_syn_pairs_syn = find_closest_snp_pairs(chr3R_short_introns_seqclasses, chr3R_syns_seqclasses)"
   ]
  },
  {
   "cell_type": "code",
   "execution_count": 178,
   "metadata": {},
   "outputs": [
    {
     "name": "stdout",
     "output_type": "stream",
     "text": [
      "Working with imputed data...\n",
      "Working with imputed data...\n",
      "Working with imputed data...\n",
      "Working with imputed data...\n",
      "Working with imputed data...\n",
      "Working with imputed data...\n",
      "Working with imputed data...\n",
      "Working with imputed data...\n"
     ]
    }
   ],
   "source": [
    "# Get the SFS for the short introns SNPs\n",
    "short_introns_paired_syn_sfs_seqclasses_array = np.array([\n",
    "    create_unfolded_sfs_from_snp_dict(chr2L_si_syn_pairs_si, \"imputed\", min_number_of_haplotypes, folded=True),\n",
    "    create_unfolded_sfs_from_snp_dict(chr2R_si_syn_pairs_si, \"imputed\", min_number_of_haplotypes, folded=True),\n",
    "    create_unfolded_sfs_from_snp_dict(chr3L_si_syn_pairs_si, \"imputed\", min_number_of_haplotypes, folded=True),\n",
    "    create_unfolded_sfs_from_snp_dict(chr3R_si_syn_pairs_si, \"imputed\", min_number_of_haplotypes, folded=True)\n",
    "])\n",
    "\n",
    "short_introns_paired_syn_seqclasses_sfs_folded = np.sum(short_introns_paired_syn_sfs_seqclasses_array, 0).tolist()\n",
    "\n",
    "# Get the SFS for the synonymous SNPs\n",
    "synonymous_paired_si_sfs_seqclasses_array = np.array([\n",
    "    create_unfolded_sfs_from_snp_dict(chr2L_si_syn_pairs_syn, \"imputed\", min_number_of_haplotypes, folded=True),\n",
    "    create_unfolded_sfs_from_snp_dict(chr2R_si_syn_pairs_syn, \"imputed\", min_number_of_haplotypes, folded=True),\n",
    "    create_unfolded_sfs_from_snp_dict(chr3L_si_syn_pairs_syn, \"imputed\", min_number_of_haplotypes, folded=True),\n",
    "    create_unfolded_sfs_from_snp_dict(chr3R_si_syn_pairs_syn, \"imputed\", min_number_of_haplotypes, folded=True)\n",
    "])\n",
    "\n",
    "synonymous_paired_si_seqclasses_sfs_folded = np.sum(synonymous_paired_si_sfs_seqclasses_array, 0).tolist()"
   ]
  },
  {
   "cell_type": "code",
   "execution_count": 179,
   "metadata": {},
   "outputs": [],
   "source": [
    "# Save the pairs to a file\n",
    "si_syn_pair_output_sfs_file = \"paired/ZI_sfs_si_paired_with_synonymous_sampled_folded_rooted.txt\"\n",
    "\n",
    "with open(si_syn_pair_output_sfs_file, \"w\") as of:\n",
    "    of.write(\"Introns and synonymous SFS of \" + str(min_number_of_haplotypes) + \" samples\" + \"\\n\")\n",
    "    of.write(\"\\t\".join(str(item) for item in short_introns_paired_syn_seqclasses_sfs_folded) + \"\\n\")\n",
    "    of.write(\"\\n\")\n",
    "    of.write(\"\\t\".join(str(item) for item in synonymous_paired_si_seqclasses_sfs_folded) + \"\\n\")"
   ]
  },
  {
   "cell_type": "markdown",
   "metadata": {},
   "source": [
    "For `synonymous SNP` and `non-synonymous SNPs`"
   ]
  },
  {
   "cell_type": "code",
   "execution_count": 180,
   "metadata": {},
   "outputs": [],
   "source": [
    "# Find pairs of SNPs that are closest to each other\n",
    "chr2L_syn_nonsyn_pairs_syn, chr2L_syn_nonsyn_pairs_nonsyn = find_closest_snp_pairs(chr2L_syns_seqclasses, chr2L_nonsyns_seqclasses)\n",
    "chr2R_syn_nonsyn_pairs_syn, chr2R_syn_nonsyn_pairs_nonsyn = find_closest_snp_pairs(chr2R_syns_seqclasses, chr2R_nonsyns_seqclasses)\n",
    "chr3L_syn_nonsyn_pairs_syn, chr3L_syn_nonsyn_pairs_nonsyn = find_closest_snp_pairs(chr3L_syns_seqclasses, chr3L_nonsyns_seqclasses)\n",
    "chr3R_syn_nonsyn_pairs_syn, chr3R_syn_nonsyn_pairs_nonsyn = find_closest_snp_pairs(chr3R_syns_seqclasses, chr3R_nonsyns_seqclasses)\n"
   ]
  },
  {
   "cell_type": "code",
   "execution_count": 181,
   "metadata": {},
   "outputs": [
    {
     "name": "stdout",
     "output_type": "stream",
     "text": [
      "Working with imputed data...\n",
      "Working with imputed data...\n",
      "Working with imputed data...\n",
      "Working with imputed data...\n",
      "Working with imputed data...\n",
      "Working with imputed data...\n",
      "Working with imputed data...\n",
      "Working with imputed data...\n"
     ]
    }
   ],
   "source": [
    "# Get the SFS for the synonymous SNPs\n",
    "synonymous_paired_nonsyn_sfs_seqclasses_array = np.array([\n",
    "    create_unfolded_sfs_from_snp_dict(chr2L_syn_nonsyn_pairs_syn, \"imputed\", min_number_of_haplotypes, folded=True),\n",
    "    create_unfolded_sfs_from_snp_dict(chr2R_syn_nonsyn_pairs_syn, \"imputed\", min_number_of_haplotypes, folded=True),\n",
    "    create_unfolded_sfs_from_snp_dict(chr3L_syn_nonsyn_pairs_syn, \"imputed\", min_number_of_haplotypes, folded=True),\n",
    "    create_unfolded_sfs_from_snp_dict(chr3R_syn_nonsyn_pairs_syn, \"imputed\", min_number_of_haplotypes, folded=True)\n",
    "])\n",
    "\n",
    "synonymous_paired_nonsyn_seqclasses_sfs_folded = np.sum(synonymous_paired_nonsyn_sfs_seqclasses_array, 0).tolist()\n",
    "\n",
    "# Get the SFS for the nonsynonymous SNPs\n",
    "nonsynonymous_paired_syn_sfs_seqclasses_array = np.array([\n",
    "    create_unfolded_sfs_from_snp_dict(chr2L_syn_nonsyn_pairs_nonsyn, \"imputed\", min_number_of_haplotypes, folded=True),\n",
    "    create_unfolded_sfs_from_snp_dict(chr2R_syn_nonsyn_pairs_nonsyn, \"imputed\", min_number_of_haplotypes, folded=True),\n",
    "    create_unfolded_sfs_from_snp_dict(chr3L_syn_nonsyn_pairs_nonsyn, \"imputed\", min_number_of_haplotypes, folded=True),\n",
    "    create_unfolded_sfs_from_snp_dict(chr3R_syn_nonsyn_pairs_nonsyn, \"imputed\", min_number_of_haplotypes, folded=True)\n",
    "])\n",
    "\n",
    "nonsynonymous_paired_syn_seqclasses_sfs_folded = np.sum(nonsynonymous_paired_syn_sfs_seqclasses_array, 0).tolist()"
   ]
  },
  {
   "cell_type": "code",
   "execution_count": 183,
   "metadata": {},
   "outputs": [],
   "source": [
    "# Save the pairs to a file\n",
    "syn_nonsyn_pair_output_sfs_file = \"paired/ZI_sfs_synonymous_paired_with_nonsynonymous_sampled_folded_rooted.txt\"\n",
    "\n",
    "with open(syn_nonsyn_pair_output_sfs_file, \"w\") as of:\n",
    "    of.write(\"Synonymous and nonsynonymous SFS of \" + str(min_number_of_haplotypes) + \" samples\" + \"\\n\")\n",
    "    of.write(\"\\t\".join(str(item) for item in synonymous_paired_nonsyn_seqclasses_sfs_folded) + \"\\n\")\n",
    "    of.write(\"\\n\")\n",
    "    of.write(\"\\t\".join(str(item) for item in nonsynonymous_paired_syn_seqclasses_sfs_folded) + \"\\n\")"
   ]
  }
 ],
 "metadata": {
  "kernelspec": {
   "display_name": "mss",
   "language": "python",
   "name": "python3"
  },
  "language_info": {
   "codemirror_mode": {
    "name": "ipython",
    "version": 3
   },
   "file_extension": ".py",
   "mimetype": "text/x-python",
   "name": "python",
   "nbconvert_exporter": "python",
   "pygments_lexer": "ipython3",
   "version": "3.11.7"
  }
 },
 "nbformat": 4,
 "nbformat_minor": 2
}
